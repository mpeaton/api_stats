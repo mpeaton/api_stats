{
 "cells": [
  {
   "cell_type": "code",
   "execution_count": 8,
   "metadata": {},
   "outputs": [],
   "source": [
    "%matplotlib inline"
   ]
  },
  {
   "cell_type": "code",
   "execution_count": 9,
   "metadata": {},
   "outputs": [],
   "source": [
    "import os\n",
    "from google.cloud import bigquery\n",
    "import bq_helper\n",
    "import numpy_stats"
   ]
  },
  {
   "cell_type": "code",
   "execution_count": 12,
   "metadata": {},
   "outputs": [],
   "source": [
    "os.environ['GOOGLE_CRED_DIR']=os.path.join(os.environ['HOME'],'creds')\n",
    "os.environ['GOOGLE_APPLICATION_CREDENTIALS']=os.path.join(os.environ['GOOGLE_CRED_DIR'],'apt-footing-235018-aeb185ac9e31.json')"
   ]
  },
  {
   "cell_type": "raw",
   "metadata": {},
   "source": [
    "github_repos = bq_helper.BigQueryHelper(active_project= \"bigquery-public-data\", \n",
    "                                       dataset_name = \"github_repos\")"
   ]
  },
  {
   "cell_type": "code",
   "execution_count": null,
   "metadata": {},
   "outputs": [],
   "source": [
    "github_repos.list_tables()"
   ]
  },
  {
   "cell_type": "code",
   "execution_count": null,
   "metadata": {},
   "outputs": [],
   "source": [
    "api_results = bq_helper.BigQueryHelper(active_project= \"apt-footing-235018\", \n",
    "                                       dataset_name = \"NumpyAPI\")"
   ]
  },
  {
   "cell_type": "raw",
   "metadata": {},
   "source": [
    "github_repos.table_schema('files')"
   ]
  },
  {
   "cell_type": "markdown",
   "metadata": {},
   "source": [
    "Query Constructed for API functions..  "
   ]
  },
  {
   "cell_type": "raw",
   "metadata": {},
   "source": [
    "from numpy_stats import *\n",
    "funs = funs[:5]\n",
    "query = build_countAPIs(funlist=funs,api_table=\n",
    "                        nest_table(\n",
    "                            build_numpyAPI_query(\n",
    "                                funlist=funs,content_table = nest_table(\n",
    "                                    build_py_content(content_table_name='[bigquery-public-data:github_repos.contents]',\n",
    "                                                     join=join_py(file_table = '[bigquery-public-data:github_repos.files]'))\n",
    "                                ))))\n",
    "print(query)"
   ]
  },
  {
   "cell_type": "code",
   "execution_count": null,
   "metadata": {},
   "outputs": [],
   "source": [
    "### AFter copying and pasting the above query into BigQuery and saving as sample_results... "
   ]
  },
  {
   "cell_type": "raw",
   "metadata": {},
   "source": [
    "import dask.dataframe as dd\n",
    "df = dd.read_csv('gs://bucket/data.csv')"
   ]
  },
  {
   "cell_type": "raw",
   "metadata": {},
   "source": [
    "import pandas as pd\n",
    "full_results = pd.read_csv('gs://numpy_api_study/full_results2.csv')"
   ]
  },
  {
   "cell_type": "code",
   "execution_count": null,
   "metadata": {},
   "outputs": [],
   "source": [
    "#Pull data from bigQuery\n",
    "#r = api_results.query_to_pandas_safe('SELECT * FROM `apt-footing-235018.NumpyAPI.sample_results`')\n",
    "#r"
   ]
  },
  {
   "cell_type": "code",
   "execution_count": 16,
   "metadata": {},
   "outputs": [
    {
     "data": {
      "image/png": "[encoded data removed]",
      "text/plain": [
       "<Figure size 640x480 with 1 Axes>"
      ]
     },
     "metadata": {},
     "output_type": "display_data"
    }
   ],
   "source": [
    "import matplotlib.pyplot as plt; plt.rcdefaults()\n",
    "import numpy as np\n",
    "import matplotlib.pyplot as plt\n",
    " \n",
    "import pandas as pd\n",
    "#r = pd.read_csv('results-20190322-101605.csv').T\n",
    "r = pd.read_csv('full_results2.csv').T\n",
    "\n",
    "r2 = r.loc[r[0]>0].sort_values(0,ascending=False)\n",
    "r2.index = [ f.split('_')[1] for f in list(r2.index)]\n",
    "\n",
    "\n",
    "r2 = r2[:20]\n",
    "y_pos = np.arange(len(r2))\n",
    "calls = r2[0]\n",
    " \n",
    "plt.bar(y_pos, calls, align='center', alpha=0.5)\n",
    "plt.xticks(y_pos,r2.index,rotation='vertical')\n",
    "\n",
    "plt.ylabel('Calls')\n",
    "plt.title('API calls from github query')\n",
    "\n",
    "fig1 = plt.gcf() \n",
    "plt.show()\n",
    "fig1.savefig('results2.png', dpi=100)"
   ]
  },
  {
   "cell_type": "code",
   "execution_count": 17,
   "metadata": {},
   "outputs": [
    {
     "data": {
      "text/plain": [
       "<Figure size 640x480 with 0 Axes>"
      ]
     },
     "metadata": {},
     "output_type": "display_data"
    },
    {
     "data": {
      "text/plain": [
       "<Figure size 640x480 with 0 Axes>"
      ]
     },
     "metadata": {},
     "output_type": "display_data"
    }
   ],
   "source": [
    "fig1 = plt.gcf()\n",
    "plt.show()\n",
    "plt.draw()\n",
    "fig1.savefig('results2.png', dpi=100)"
   ]
  },
  {
   "cell_type": "code",
   "execution_count": 92,
   "metadata": {},
   "outputs": [],
   "source": [
    "import numpy"
   ]
  },
  {
   "cell_type": "code",
   "execution_count": null,
   "metadata": {},
   "outputs": [],
   "source": []
  },
  {
   "cell_type": "code",
   "execution_count": null,
   "metadata": {},
   "outputs": [],
   "source": []
  },
  {
   "cell_type": "code",
   "execution_count": 93,
   "metadata": {},
   "outputs": [],
   "source": [
    "methods =  [x for x in dir(numpy.zeros((3,3))) if not x.startswith('__')]"
   ]
  },
  {
   "cell_type": "code",
   "execution_count": 95,
   "metadata": {},
   "outputs": [],
   "source": [
    "api = [(x, type(numpy.__getattribute__(x))) for x in dir(numpy) if not x.startswith('__')]"
   ]
  },
  {
   "cell_type": "code",
   "execution_count": 96,
   "metadata": {},
   "outputs": [],
   "source": [
    "ufuncs = [x for x in api if x[1] is numpy.ufunc]"
   ]
  },
  {
   "cell_type": "code",
   "execution_count": 97,
   "metadata": {},
   "outputs": [],
   "source": [
    "functions = [x for x in api if x[1] is type(lambda x: x)]"
   ]
  },
  {
   "cell_type": "code",
   "execution_count": 98,
   "metadata": {},
   "outputs": [],
   "source": [
    "builtins = [x for x in api if x[1] is type(numpy.zeros)]"
   ]
  },
  {
   "cell_type": "code",
   "execution_count": 102,
   "metadata": {},
   "outputs": [],
   "source": [
    "api_things = list(set(x[1] for x in api))"
   ]
  },
  {
   "cell_type": "code",
   "execution_count": 103,
   "metadata": {},
   "outputs": [],
   "source": [
    "api_grouped = {y:[x[0] for x in api if x[1] is y] for y in api_things}"
   ]
  },
  {
   "cell_type": "code",
   "execution_count": null,
   "metadata": {},
   "outputs": [],
   "source": [
    "api_grouped"
   ]
  },
  {
   "cell_type": "code",
   "execution_count": null,
   "metadata": {},
   "outputs": [],
   "source": []
  }
 ],
 "metadata": {
  "kernelspec": {
   "display_name": "Python (uarray)",
   "language": "python",
   "name": "uarray"
  },
  "language_info": {
   "codemirror_mode": {
    "name": "ipython",
    "version": 3
   },
   "file_extension": ".py",
   "mimetype": "text/x-python",
   "name": "python",
   "nbconvert_exporter": "python",
   "pygments_lexer": "ipython3",
   "version": "3.7.2"
  }
 },
 "nbformat": 4,
 "nbformat_minor": 2
}
