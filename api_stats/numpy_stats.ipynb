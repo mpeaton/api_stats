{
 "cells": [
  {
   "cell_type": "code",
   "execution_count": 1,
   "metadata": {},
   "outputs": [],
   "source": [
    "%matplotlib inline"
   ]
  },
  {
   "cell_type": "code",
   "execution_count": 2,
   "metadata": {},
   "outputs": [],
   "source": [
    "%load_ext autoreload\n",
    "%autoreload 1\n",
    "%aimport numpy_api_stats"
   ]
  },
  {
   "cell_type": "code",
   "execution_count": 3,
   "metadata": {},
   "outputs": [
    {
     "data": {
      "image/png": "[encoded data removed]",
      "text/plain": [
       "<Figure size 640x480 with 1 Axes>"
      ]
     },
     "metadata": {},
     "output_type": "display_data"
    }
   ],
   "source": [
    "import numpy_api_stats as ns\n",
    "import pandas as pd\n",
    "ns.plot_results(pd.read_csv('results-20190402-090153.csv'),savefig=True,filename='results.png',dpi=200)"
   ]
  },
  {
   "cell_type": "code",
   "execution_count": null,
   "metadata": {},
   "outputs": [],
   "source": []
  },
  {
   "cell_type": "code",
   "execution_count": 4,
   "metadata": {},
   "outputs": [],
   "source": [
    "import os\n",
    "os.environ['GOOGLE_CRED_DIR']=os.path.join(os.environ['HOME'],'creds')\n",
    "os.environ['GOOGLE_APPLICATION_CREDENTIALS']=os.path.join(os.environ['GOOGLE_CRED_DIR'],'apt-footing-235018-aeb185ac9e31.json')"
   ]
  },
  {
   "cell_type": "markdown",
   "metadata": {},
   "source": [
    "#### Investigate bigQuery public github dataset contents using bqhelper"
   ]
  },
  {
   "cell_type": "code",
   "execution_count": 5,
   "metadata": {},
   "outputs": [],
   "source": [
    "#from google.cloud import bigquery\n",
    "github_repos = ns.BigQueryHelper(active_project= \"bigquery-public-data\", \n",
    "                                       dataset_name = \"github_repos\")"
   ]
  },
  {
   "cell_type": "code",
   "execution_count": 6,
   "metadata": {},
   "outputs": [
    {
     "data": {
      "text/plain": [
       "['commits',\n",
       " 'contents',\n",
       " 'files',\n",
       " 'languages',\n",
       " 'licenses',\n",
       " 'sample_commits',\n",
       " 'sample_contents',\n",
       " 'sample_files',\n",
       " 'sample_repos']"
      ]
     },
     "execution_count": 6,
     "metadata": {},
     "output_type": "execute_result"
    }
   ],
   "source": [
    "github_repos.list_tables()"
   ]
  },
  {
   "cell_type": "code",
   "execution_count": 7,
   "metadata": {},
   "outputs": [],
   "source": [
    "api_results = ns.BigQueryHelper(active_project= \"apt-footing-235018\", \n",
    "                                       dataset_name = \"NumpyAPI\")"
   ]
  },
  {
   "cell_type": "code",
   "execution_count": 8,
   "metadata": {},
   "outputs": [
    {
     "data": {
      "text/plain": [
       "['content',\n",
       " 'files',\n",
       " 'functions',\n",
       " 'imports',\n",
       " 'methods',\n",
       " 'ohNulllllll',\n",
       " 'projects',\n",
       " 'pypi_downloads_that_import_numpy',\n",
       " 'pypi_downloads_this_week',\n",
       " 'repos_that_import_numpy',\n",
       " 'repos_that_import_numpy_split',\n",
       " 'results',\n",
       " 'results2',\n",
       " 'results3',\n",
       " 'sample_results',\n",
       " 'watched',\n",
       " 'watched_python',\n",
       " 'watched_sample_files']"
      ]
     },
     "execution_count": 8,
     "metadata": {},
     "output_type": "execute_result"
    }
   ],
   "source": [
    "api_results.list_tables()"
   ]
  },
  {
   "cell_type": "code",
   "execution_count": 9,
   "metadata": {},
   "outputs": [
    {
     "data": {
      "text/html": [
       "<div>\n",
       "<style scoped>\n",
       "    .dataframe tbody tr th:only-of-type {\n",
       "        vertical-align: middle;\n",
       "    }\n",
       "\n",
       "    .dataframe tbody tr th {\n",
       "        vertical-align: top;\n",
       "    }\n",
       "\n",
       "    .dataframe thead th {\n",
       "        text-align: right;\n",
       "    }\n",
       "</style>\n",
       "<table border=\"1\" class=\"dataframe\">\n",
       "  <thead>\n",
       "    <tr style=\"text-align: right;\">\n",
       "      <th></th>\n",
       "      <th>name</th>\n",
       "      <th>type</th>\n",
       "      <th>mode</th>\n",
       "      <th>description</th>\n",
       "    </tr>\n",
       "  </thead>\n",
       "  <tbody>\n",
       "    <tr>\n",
       "      <th>0</th>\n",
       "      <td>repo_name</td>\n",
       "      <td>STRING</td>\n",
       "      <td>NULLABLE</td>\n",
       "      <td>None</td>\n",
       "    </tr>\n",
       "    <tr>\n",
       "      <th>1</th>\n",
       "      <td>ref</td>\n",
       "      <td>STRING</td>\n",
       "      <td>NULLABLE</td>\n",
       "      <td>None</td>\n",
       "    </tr>\n",
       "    <tr>\n",
       "      <th>2</th>\n",
       "      <td>path</td>\n",
       "      <td>STRING</td>\n",
       "      <td>NULLABLE</td>\n",
       "      <td>None</td>\n",
       "    </tr>\n",
       "    <tr>\n",
       "      <th>3</th>\n",
       "      <td>mode</td>\n",
       "      <td>INTEGER</td>\n",
       "      <td>NULLABLE</td>\n",
       "      <td>None</td>\n",
       "    </tr>\n",
       "    <tr>\n",
       "      <th>4</th>\n",
       "      <td>id</td>\n",
       "      <td>STRING</td>\n",
       "      <td>NULLABLE</td>\n",
       "      <td>None</td>\n",
       "    </tr>\n",
       "    <tr>\n",
       "      <th>5</th>\n",
       "      <td>symlink_target</td>\n",
       "      <td>STRING</td>\n",
       "      <td>NULLABLE</td>\n",
       "      <td>None</td>\n",
       "    </tr>\n",
       "  </tbody>\n",
       "</table>\n",
       "</div>"
      ],
      "text/plain": [
       "             name     type      mode description\n",
       "0       repo_name   STRING  NULLABLE        None\n",
       "1             ref   STRING  NULLABLE        None\n",
       "2            path   STRING  NULLABLE        None\n",
       "3            mode  INTEGER  NULLABLE        None\n",
       "4              id   STRING  NULLABLE        None\n",
       "5  symlink_target   STRING  NULLABLE        None"
      ]
     },
     "execution_count": 9,
     "metadata": {},
     "output_type": "execute_result"
    }
   ],
   "source": [
    "github_repos.table_schema('files')"
   ]
  },
  {
   "cell_type": "markdown",
   "metadata": {},
   "source": [
    "### Construct API datasets"
   ]
  },
  {
   "cell_type": "code",
   "execution_count": 10,
   "metadata": {},
   "outputs": [],
   "source": [
    "import numpy as np\n",
    "import pandas as pd\n",
    "\n",
    "api = [(x, type(np.__getattribute__(x))) for x in dir(np) if not x.startswith('__')]\n",
    "things = set([ x[1].__name__ for x in api])\n",
    "names = set([ x[0] for x in api])\n",
    "df_api = pd.DataFrame(api,columns=['name','type'])\n",
    "\n",
    "array_type = df_api[df_api.name=='array']\n",
    "things_of_array_type = df_api[df_api.type == array_type.type.values[0]]\n",
    "#things_of_array_type"
   ]
  },
  {
   "cell_type": "code",
   "execution_count": 11,
   "metadata": {},
   "outputs": [
    {
     "data": {
      "text/html": [
       "<div>\n",
       "<style scoped>\n",
       "    .dataframe tbody tr th:only-of-type {\n",
       "        vertical-align: middle;\n",
       "    }\n",
       "\n",
       "    .dataframe tbody tr th {\n",
       "        vertical-align: top;\n",
       "    }\n",
       "\n",
       "    .dataframe thead th {\n",
       "        text-align: right;\n",
       "    }\n",
       "</style>\n",
       "<table border=\"1\" class=\"dataframe\">\n",
       "  <thead>\n",
       "    <tr style=\"text-align: right;\">\n",
       "      <th></th>\n",
       "      <th>name</th>\n",
       "      <th>type</th>\n",
       "    </tr>\n",
       "  </thead>\n",
       "  <tbody>\n",
       "    <tr>\n",
       "      <th>339</th>\n",
       "      <td>linalg</td>\n",
       "      <td>&lt;class 'module'&gt;</td>\n",
       "    </tr>\n",
       "  </tbody>\n",
       "</table>\n",
       "</div>"
      ],
      "text/plain": [
       "       name              type\n",
       "339  linalg  <class 'module'>"
      ]
     },
     "execution_count": 11,
     "metadata": {},
     "output_type": "execute_result"
    }
   ],
   "source": [
    "df_api[df_api.name=='linalg']"
   ]
  },
  {
   "cell_type": "code",
   "execution_count": 12,
   "metadata": {},
   "outputs": [],
   "source": [
    "GoogleSheet = pd.read_csv('NumPy API - Sheet2.csv')\n",
    "names_from_sheet = GoogleSheet['NumPy API']"
   ]
  },
  {
   "cell_type": "code",
   "execution_count": 13,
   "metadata": {},
   "outputs": [],
   "source": [
    "valid_names = set(names_from_sheet)-set(['Functions','bench',np.nan])"
   ]
  },
  {
   "cell_type": "code",
   "execution_count": 14,
   "metadata": {},
   "outputs": [],
   "source": [
    "new_names = set(names)-set(names_from_sheet)"
   ]
  },
  {
   "cell_type": "code",
   "execution_count": 15,
   "metadata": {},
   "outputs": [
    {
     "data": {
      "text/html": [
       "<div>\n",
       "<style scoped>\n",
       "    .dataframe tbody tr th:only-of-type {\n",
       "        vertical-align: middle;\n",
       "    }\n",
       "\n",
       "    .dataframe tbody tr th {\n",
       "        vertical-align: top;\n",
       "    }\n",
       "\n",
       "    .dataframe thead th {\n",
       "        text-align: right;\n",
       "    }\n",
       "</style>\n",
       "<table border=\"1\" class=\"dataframe\">\n",
       "  <thead>\n",
       "    <tr style=\"text-align: right;\">\n",
       "      <th></th>\n",
       "      <th>name</th>\n",
       "      <th>type</th>\n",
       "    </tr>\n",
       "  </thead>\n",
       "  <tbody>\n",
       "    <tr>\n",
       "      <th>0</th>\n",
       "      <td>sum</td>\n",
       "      <td>function</td>\n",
       "    </tr>\n",
       "    <tr>\n",
       "      <th>1</th>\n",
       "      <td>record</td>\n",
       "      <td>type</td>\n",
       "    </tr>\n",
       "    <tr>\n",
       "      <th>2</th>\n",
       "      <td>log</td>\n",
       "      <td>ufunc</td>\n",
       "    </tr>\n",
       "    <tr>\n",
       "      <th>3</th>\n",
       "      <td>indices</td>\n",
       "      <td>function</td>\n",
       "    </tr>\n",
       "    <tr>\n",
       "      <th>4</th>\n",
       "      <td>geterr</td>\n",
       "      <td>function</td>\n",
       "    </tr>\n",
       "  </tbody>\n",
       "</table>\n",
       "</div>"
      ],
      "text/plain": [
       "      name      type\n",
       "0      sum  function\n",
       "1   record      type\n",
       "2      log     ufunc\n",
       "3  indices  function\n",
       "4   geterr  function"
      ]
     },
     "execution_count": 15,
     "metadata": {},
     "output_type": "execute_result"
    }
   ],
   "source": [
    "df_valid_from_sheet = df_api.set_index('name').loc[valid_names]\n",
    "df_valid_from_sheet = df_valid_from_sheet.reset_index()\n",
    "df_valid_from_sheet['type'] = df_valid_from_sheet.type.apply(lambda x: x.__name__)\n",
    "df_valid_from_sheet.head()"
   ]
  },
  {
   "cell_type": "markdown",
   "metadata": {},
   "source": [
    "#### How many of each type in the api are represented in the Google Sheet?"
   ]
  },
  {
   "cell_type": "code",
   "execution_count": 16,
   "metadata": {},
   "outputs": [
    {
     "data": {
      "text/html": [
       "<div>\n",
       "<style scoped>\n",
       "    .dataframe tbody tr th:only-of-type {\n",
       "        vertical-align: middle;\n",
       "    }\n",
       "\n",
       "    .dataframe tbody tr th {\n",
       "        vertical-align: top;\n",
       "    }\n",
       "\n",
       "    .dataframe thead th {\n",
       "        text-align: right;\n",
       "    }\n",
       "</style>\n",
       "<table border=\"1\" class=\"dataframe\">\n",
       "  <thead>\n",
       "    <tr style=\"text-align: right;\">\n",
       "      <th></th>\n",
       "      <th>name</th>\n",
       "    </tr>\n",
       "    <tr>\n",
       "      <th>type</th>\n",
       "      <th></th>\n",
       "    </tr>\n",
       "  </thead>\n",
       "  <tbody>\n",
       "    <tr>\n",
       "      <th>CClass</th>\n",
       "      <td>1</td>\n",
       "    </tr>\n",
       "    <tr>\n",
       "      <th>NoneType</th>\n",
       "      <td>1</td>\n",
       "    </tr>\n",
       "    <tr>\n",
       "      <th>PytestTester</th>\n",
       "      <td>1</td>\n",
       "    </tr>\n",
       "    <tr>\n",
       "      <th>RClass</th>\n",
       "      <td>1</td>\n",
       "    </tr>\n",
       "    <tr>\n",
       "      <th>bool</th>\n",
       "      <td>1</td>\n",
       "    </tr>\n",
       "    <tr>\n",
       "      <th>int</th>\n",
       "      <td>1</td>\n",
       "    </tr>\n",
       "    <tr>\n",
       "      <th>IndexExpression</th>\n",
       "      <td>2</td>\n",
       "    </tr>\n",
       "    <tr>\n",
       "      <th>_typedict</th>\n",
       "      <td>2</td>\n",
       "    </tr>\n",
       "    <tr>\n",
       "      <th>str</th>\n",
       "      <td>2</td>\n",
       "    </tr>\n",
       "    <tr>\n",
       "      <th>nd_grid</th>\n",
       "      <td>2</td>\n",
       "    </tr>\n",
       "    <tr>\n",
       "      <th>_Feature</th>\n",
       "      <td>3</td>\n",
       "    </tr>\n",
       "    <tr>\n",
       "      <th>float</th>\n",
       "      <td>5</td>\n",
       "    </tr>\n",
       "    <tr>\n",
       "      <th>dict</th>\n",
       "      <td>6</td>\n",
       "    </tr>\n",
       "    <tr>\n",
       "      <th>module</th>\n",
       "      <td>19</td>\n",
       "    </tr>\n",
       "    <tr>\n",
       "      <th>builtin_function_or_method</th>\n",
       "      <td>45</td>\n",
       "    </tr>\n",
       "    <tr>\n",
       "      <th>ufunc</th>\n",
       "      <td>88</td>\n",
       "    </tr>\n",
       "    <tr>\n",
       "      <th>type</th>\n",
       "      <td>95</td>\n",
       "    </tr>\n",
       "    <tr>\n",
       "      <th>function</th>\n",
       "      <td>272</td>\n",
       "    </tr>\n",
       "  </tbody>\n",
       "</table>\n",
       "</div>"
      ],
      "text/plain": [
       "                            name\n",
       "type                            \n",
       "CClass                         1\n",
       "NoneType                       1\n",
       "PytestTester                   1\n",
       "RClass                         1\n",
       "bool                           1\n",
       "int                            1\n",
       "IndexExpression                2\n",
       "_typedict                      2\n",
       "str                            2\n",
       "nd_grid                        2\n",
       "_Feature                       3\n",
       "float                          5\n",
       "dict                           6\n",
       "module                        19\n",
       "builtin_function_or_method    45\n",
       "ufunc                         88\n",
       "type                          95\n",
       "function                     272"
      ]
     },
     "execution_count": 16,
     "metadata": {},
     "output_type": "execute_result"
    }
   ],
   "source": [
    "df_valid_from_sheet[['type','name']].groupby(['type']).count().sort_values('name')"
   ]
  },
  {
   "cell_type": "markdown",
   "metadata": {},
   "source": [
    "#### Of which, the following have not been implemented"
   ]
  },
  {
   "cell_type": "code",
   "execution_count": 17,
   "metadata": {},
   "outputs": [
    {
     "data": {
      "text/html": [
       "<div>\n",
       "<style scoped>\n",
       "    .dataframe tbody tr th:only-of-type {\n",
       "        vertical-align: middle;\n",
       "    }\n",
       "\n",
       "    .dataframe tbody tr th {\n",
       "        vertical-align: top;\n",
       "    }\n",
       "\n",
       "    .dataframe thead th {\n",
       "        text-align: right;\n",
       "    }\n",
       "</style>\n",
       "<table border=\"1\" class=\"dataframe\">\n",
       "  <thead>\n",
       "    <tr style=\"text-align: right;\">\n",
       "      <th></th>\n",
       "      <th>name</th>\n",
       "    </tr>\n",
       "    <tr>\n",
       "      <th>type</th>\n",
       "      <th></th>\n",
       "    </tr>\n",
       "  </thead>\n",
       "  <tbody>\n",
       "    <tr>\n",
       "      <th>CClass</th>\n",
       "      <td>c_</td>\n",
       "    </tr>\n",
       "    <tr>\n",
       "      <th>NoneType</th>\n",
       "      <td>newaxis</td>\n",
       "    </tr>\n",
       "    <tr>\n",
       "      <th>PytestTester</th>\n",
       "      <td>test</td>\n",
       "    </tr>\n",
       "    <tr>\n",
       "      <th>RClass</th>\n",
       "      <td>r_</td>\n",
       "    </tr>\n",
       "    <tr>\n",
       "      <th>bool</th>\n",
       "      <td>little_endian</td>\n",
       "    </tr>\n",
       "    <tr>\n",
       "      <th>IndexExpression</th>\n",
       "      <td>s_</td>\n",
       "    </tr>\n",
       "    <tr>\n",
       "      <th>IndexExpression</th>\n",
       "      <td>index_exp</td>\n",
       "    </tr>\n",
       "    <tr>\n",
       "      <th>_typedict</th>\n",
       "      <td>cast</td>\n",
       "    </tr>\n",
       "    <tr>\n",
       "      <th>_typedict</th>\n",
       "      <td>nbytes</td>\n",
       "    </tr>\n",
       "    <tr>\n",
       "      <th>str</th>\n",
       "      <td>oldnumeric</td>\n",
       "    </tr>\n",
       "    <tr>\n",
       "      <th>str</th>\n",
       "      <td>numarray</td>\n",
       "    </tr>\n",
       "    <tr>\n",
       "      <th>nd_grid</th>\n",
       "      <td>ogrid</td>\n",
       "    </tr>\n",
       "    <tr>\n",
       "      <th>nd_grid</th>\n",
       "      <td>mgrid</td>\n",
       "    </tr>\n",
       "    <tr>\n",
       "      <th>_Feature</th>\n",
       "      <td>division</td>\n",
       "    </tr>\n",
       "    <tr>\n",
       "      <th>_Feature</th>\n",
       "      <td>absolute_import</td>\n",
       "    </tr>\n",
       "    <tr>\n",
       "      <th>_Feature</th>\n",
       "      <td>print_function</td>\n",
       "    </tr>\n",
       "    <tr>\n",
       "      <th>dict</th>\n",
       "      <td>typecodes</td>\n",
       "    </tr>\n",
       "    <tr>\n",
       "      <th>dict</th>\n",
       "      <td>typeNA</td>\n",
       "    </tr>\n",
       "    <tr>\n",
       "      <th>dict</th>\n",
       "      <td>sctypeDict</td>\n",
       "    </tr>\n",
       "    <tr>\n",
       "      <th>dict</th>\n",
       "      <td>sctypes</td>\n",
       "    </tr>\n",
       "    <tr>\n",
       "      <th>dict</th>\n",
       "      <td>sctypeNA</td>\n",
       "    </tr>\n",
       "    <tr>\n",
       "      <th>dict</th>\n",
       "      <td>typeDict</td>\n",
       "    </tr>\n",
       "  </tbody>\n",
       "</table>\n",
       "</div>"
      ],
      "text/plain": [
       "                            name\n",
       "type                            \n",
       "CClass                        c_\n",
       "NoneType                 newaxis\n",
       "PytestTester                test\n",
       "RClass                        r_\n",
       "bool               little_endian\n",
       "IndexExpression               s_\n",
       "IndexExpression        index_exp\n",
       "_typedict                   cast\n",
       "_typedict                 nbytes\n",
       "str                   oldnumeric\n",
       "str                     numarray\n",
       "nd_grid                    ogrid\n",
       "nd_grid                    mgrid\n",
       "_Feature                division\n",
       "_Feature         absolute_import\n",
       "_Feature          print_function\n",
       "dict                   typecodes\n",
       "dict                      typeNA\n",
       "dict                  sctypeDict\n",
       "dict                     sctypes\n",
       "dict                    sctypeNA\n",
       "dict                    typeDict"
      ]
     },
     "execution_count": 17,
     "metadata": {},
     "output_type": "execute_result"
    }
   ],
   "source": [
    "df_valid_from_sheet.set_index('type').loc[['CClass','NoneType','PytestTester','RClass','bool','IndexExpression','_typedict','str','nd_grid','_Feature','dict']]"
   ]
  },
  {
   "cell_type": "markdown",
   "metadata": {},
   "source": [
    "#### Query Constructed for API functions..  "
   ]
  },
  {
   "cell_type": "code",
   "execution_count": 22,
   "metadata": {},
   "outputs": [],
   "source": [
    "# Selecting just a few for demonstration, Query price is independent of # of regex though, so it is better to actually run\n",
    "# with all at once.\n",
    "\n",
    "funs = ns.select(api,'function')\n",
    "mods = ns.select(api,'module')\n",
    "ints = ns.select(api,'int')\n",
    "floats = ns.select(api,'float')\n",
    "ufuncs = ns.select(api,'ufunc')\n",
    "api_list = funs[:2]+mods[:2]+ints[:2]+floats[:2]+ufuncs[:2]"
   ]
  },
  {
   "cell_type": "code",
   "execution_count": null,
   "metadata": {},
   "outputs": [],
   "source": [
    "# Use all to build full query running \n",
    "#api_list=ns.build_api_list(api)"
   ]
  },
  {
   "cell_type": "code",
   "execution_count": 26,
   "metadata": {},
   "outputs": [
    {
     "data": {
      "text/plain": [
       "10"
      ]
     },
     "execution_count": 26,
     "metadata": {},
     "output_type": "execute_result"
    }
   ],
   "source": [
    "len(api_list)"
   ]
  },
  {
   "cell_type": "code",
   "execution_count": 27,
   "metadata": {},
   "outputs": [
    {
     "name": "stdout",
     "output_type": "stream",
     "text": [
      "SELECT\n",
      "REGEXP_MATCH( c.content,'(np\\\\.|numpy\\\\.)add_newdoc\\\\(\\\\s?[A-Za-z0-9_.\\\\(\\\\)]*\\\\s?\\\\)' ) AS numpy_function_add_newdoc,\n",
      "REGEXP_MATCH( c.content,'(np\\\\.|numpy\\\\.)alen\\\\(\\\\s?[A-Za-z0-9_.\\\\(\\\\)]*\\\\s?\\\\)' ) AS numpy_function_alen,\n",
      "REGEXP_MATCH(c.content,'(import\\\\s+numpy\\\\._distributor_init|from\\\\s+numpy\\\\s+import\\\\s+_distributor_init|from\\\\s+numpy\\\\._distributor_init import\\\\s+[A-za-z0-9_.]+)' ) AS numpy_module__distributor_init,\n",
      "REGEXP_MATCH(c.content,'(import\\\\s+numpy\\\\._globals|from\\\\s+numpy\\\\s+import\\\\s+_globals|from\\\\s+numpy\\\\._globals import\\\\s+[A-za-z0-9_.]+)' ) AS numpy_module__globals,\n",
      "REGEXP_MATCH(c.content,'(np\\\\.|numpy\\\\.)ALLOW_THREADS' ) AS numpy_int_ALLOW_THREADS,\n",
      "REGEXP_MATCH(c.content,'(np\\\\.|numpy\\\\.)BUFSIZE' ) AS numpy_int_BUFSIZE,\n",
      "REGEXP_MATCH(c.content,'(np\\\\.|numpy\\\\.)Inf\\\\s*[\\\\*\\\\+\\\\-\\\\/]?' ) AS numpy_float_inf1,\n",
      "REGEXP_MATCH(c.content,'(np\\\\.|numpy\\\\.)Infinity\\\\s*[\\\\*\\\\+\\\\-\\\\/]?' ) AS numpy_float_Infinity,\n",
      "REGEXP_MATCH(c.content,'(np\\\\.|numpy\\\\.)abs\\\\(\\\\s?[A-Za-z0-9_.,\\\\(\\\\)]*\\\\s?\\\\)' ) AS numpy_ufunc_abs,\n",
      "REGEXP_MATCH(c.content,'(np\\\\.|numpy\\\\.)absolute\\\\(\\\\s?[A-Za-z0-9_.,\\\\(\\\\)]*\\\\s?\\\\)' ) AS numpy_ufunc_absolute\n",
      "FROM (SELECT\n",
      "*\n",
      "FROM\n",
      "[bigquery-public-data:github_repos.contents] AS c\n",
      "INNER JOIN\n",
      "(SELECT\n",
      "*\n",
      "FROM\n",
      "[bigquery-public-data:github_repos.files] AS f\n",
      "WHERE\n",
      "(\n",
      "f.path LIKE '%.py' \n",
      "OR\n",
      "f.path LIKE '%.ipynb'\n",
      ") ) AS p\n",
      "ON\n",
      "c.id = p.id)\n"
     ]
    }
   ],
   "source": [
    "import numpy_api_stats as ns\n",
    "apq = ns.API_QUERY_FACTORY(api_list=api_list)\n",
    "#apq = ns.API_QUERY_FACTORY()\n",
    "print(apq.query)"
   ]
  },
  {
   "cell_type": "markdown",
   "metadata": {},
   "source": [
    "### AFter copying and pasting the above query into BigQuery and saving as sample_results... "
   ]
  },
  {
   "cell_type": "markdown",
   "metadata": {},
   "source": [
    "#####Unfortunately this doesn't work https://github.com/dask/dask/issues/3121 so we manually export results."
   ]
  },
  {
   "cell_type": "raw",
   "metadata": {},
   "source": [
    "import dask.dataframe as dd\n",
    "df = dd.read_csv('gs://numpy_api_study/  np_results_*.csv')"
   ]
  },
  {
   "cell_type": "markdown",
   "metadata": {},
   "source": [
    "##### Pull data from bigQuery.  This is a one row table with a a few hundred columns so is relatively inexpensive to pull, but we'll download a local copy and work from that anyway to reduce wear on our ISP's routers."
   ]
  },
  {
   "cell_type": "raw",
   "metadata": {},
   "source": [
    "r = api_results.query_to_pandas_safe('SELECT * FROM `apt-footing-235018.NumpyAPI.results3`')\n",
    "ns.plot_results(r,savefig=True,filename='results.png',dpi=200)"
   ]
  },
  {
   "cell_type": "code",
   "execution_count": null,
   "metadata": {},
   "outputs": [],
   "source": []
  },
  {
   "cell_type": "code",
   "execution_count": null,
   "metadata": {},
   "outputs": [],
   "source": []
  },
  {
   "cell_type": "code",
   "execution_count": null,
   "metadata": {},
   "outputs": [],
   "source": []
  }
 ],
 "metadata": {
  "kernelspec": {
   "display_name": "Python (uarray)",
   "language": "python",
   "name": "uarray"
  },
  "language_info": {
   "codemirror_mode": {
    "name": "ipython",
    "version": 3
   },
   "file_extension": ".py",
   "mimetype": "text/x-python",
   "name": "python",
   "nbconvert_exporter": "python",
   "pygments_lexer": "ipython3",
   "version": "3.7.2"
  }
 },
 "nbformat": 4,
 "nbformat_minor": 2
}
