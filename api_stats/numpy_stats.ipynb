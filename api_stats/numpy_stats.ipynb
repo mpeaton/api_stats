{
 "cells": [
  {
   "cell_type": "code",
   "execution_count": 1,
   "metadata": {},
   "outputs": [],
   "source": [
    "%matplotlib inline"
   ]
  },
  {
   "cell_type": "code",
   "execution_count": 2,
   "metadata": {},
   "outputs": [],
   "source": [
    "%load_ext autoreload\n",
    "%autoreload 1\n",
    "%aimport numpy_api_stats"
   ]
  },
  {
   "cell_type": "code",
   "execution_count": 3,
   "metadata": {},
   "outputs": [],
   "source": [
    "import os\n",
    "os.environ['GOOGLE_CRED_DIR']=os.path.join(os.environ['HOME'],'creds')\n",
    "os.environ['GOOGLE_APPLICATION_CREDENTIALS']=os.path.join(os.environ['GOOGLE_CRED_DIR'],'apt-footing-235018-aeb185ac9e31.json')"
   ]
  },
  {
   "cell_type": "code",
   "execution_count": null,
   "metadata": {},
   "outputs": [],
   "source": []
  },
  {
   "cell_type": "markdown",
   "metadata": {},
   "source": [
    "#### Investigate bigQuery public github dataset contents using bqhelper"
   ]
  },
  {
   "cell_type": "code",
   "execution_count": 16,
   "metadata": {},
   "outputs": [],
   "source": [
    "#from google.cloud import bigquery\n",
    "github_repos = ns.BigQueryHelper(active_project= \"bigquery-public-data\", \n",
    "                                       dataset_name = \"github_repos\")"
   ]
  },
  {
   "cell_type": "code",
   "execution_count": 17,
   "metadata": {},
   "outputs": [
    {
     "data": {
      "text/plain": [
       "['commits',\n",
       " 'contents',\n",
       " 'files',\n",
       " 'languages',\n",
       " 'licenses',\n",
       " 'sample_commits',\n",
       " 'sample_contents',\n",
       " 'sample_files',\n",
       " 'sample_repos']"
      ]
     },
     "execution_count": 17,
     "metadata": {},
     "output_type": "execute_result"
    }
   ],
   "source": [
    "github_repos.list_tables()"
   ]
  },
  {
   "cell_type": "code",
   "execution_count": 18,
   "metadata": {},
   "outputs": [
    {
     "data": {
      "text/plain": [
       "['content',\n",
       " 'files',\n",
       " 'functions',\n",
       " 'imports',\n",
       " 'methods',\n",
       " 'projects',\n",
       " 'results',\n",
       " 'results2',\n",
       " 'sample_results',\n",
       " 'watched',\n",
       " 'watched_python',\n",
       " 'watched_sample_files']"
      ]
     },
     "execution_count": 18,
     "metadata": {},
     "output_type": "execute_result"
    }
   ],
   "source": [
    "api_results = ns.BigQueryHelper(active_project= \"apt-footing-235018\", \n",
    "                                       dataset_name = \"NumpyAPI\")\n",
    "api_results.list_tables()"
   ]
  },
  {
   "cell_type": "code",
   "execution_count": 19,
   "metadata": {},
   "outputs": [
    {
     "data": {
      "text/html": [
       "<div>\n",
       "<style scoped>\n",
       "    .dataframe tbody tr th:only-of-type {\n",
       "        vertical-align: middle;\n",
       "    }\n",
       "\n",
       "    .dataframe tbody tr th {\n",
       "        vertical-align: top;\n",
       "    }\n",
       "\n",
       "    .dataframe thead th {\n",
       "        text-align: right;\n",
       "    }\n",
       "</style>\n",
       "<table border=\"1\" class=\"dataframe\">\n",
       "  <thead>\n",
       "    <tr style=\"text-align: right;\">\n",
       "      <th></th>\n",
       "      <th>name</th>\n",
       "      <th>type</th>\n",
       "      <th>mode</th>\n",
       "      <th>description</th>\n",
       "    </tr>\n",
       "  </thead>\n",
       "  <tbody>\n",
       "    <tr>\n",
       "      <th>0</th>\n",
       "      <td>repo_name</td>\n",
       "      <td>STRING</td>\n",
       "      <td>NULLABLE</td>\n",
       "      <td>None</td>\n",
       "    </tr>\n",
       "    <tr>\n",
       "      <th>1</th>\n",
       "      <td>ref</td>\n",
       "      <td>STRING</td>\n",
       "      <td>NULLABLE</td>\n",
       "      <td>None</td>\n",
       "    </tr>\n",
       "    <tr>\n",
       "      <th>2</th>\n",
       "      <td>path</td>\n",
       "      <td>STRING</td>\n",
       "      <td>NULLABLE</td>\n",
       "      <td>None</td>\n",
       "    </tr>\n",
       "    <tr>\n",
       "      <th>3</th>\n",
       "      <td>mode</td>\n",
       "      <td>INTEGER</td>\n",
       "      <td>NULLABLE</td>\n",
       "      <td>None</td>\n",
       "    </tr>\n",
       "    <tr>\n",
       "      <th>4</th>\n",
       "      <td>id</td>\n",
       "      <td>STRING</td>\n",
       "      <td>NULLABLE</td>\n",
       "      <td>None</td>\n",
       "    </tr>\n",
       "    <tr>\n",
       "      <th>5</th>\n",
       "      <td>symlink_target</td>\n",
       "      <td>STRING</td>\n",
       "      <td>NULLABLE</td>\n",
       "      <td>None</td>\n",
       "    </tr>\n",
       "  </tbody>\n",
       "</table>\n",
       "</div>"
      ],
      "text/plain": [
       "             name     type      mode description\n",
       "0       repo_name   STRING  NULLABLE        None\n",
       "1             ref   STRING  NULLABLE        None\n",
       "2            path   STRING  NULLABLE        None\n",
       "3            mode  INTEGER  NULLABLE        None\n",
       "4              id   STRING  NULLABLE        None\n",
       "5  symlink_target   STRING  NULLABLE        None"
      ]
     },
     "execution_count": 19,
     "metadata": {},
     "output_type": "execute_result"
    }
   ],
   "source": [
    "github_repos.table_schema('files')"
   ]
  },
  {
   "cell_type": "markdown",
   "metadata": {},
   "source": [
    "### Construct API datasets"
   ]
  },
  {
   "cell_type": "code",
   "execution_count": 5,
   "metadata": {},
   "outputs": [],
   "source": [
    "import numpy as np\n",
    "import numpy_api_stats as ns\n",
    "\n",
    "api = [(x, type(np.__getattribute__(x))) for x in dir(np) if not x.startswith('__')]"
   ]
  },
  {
   "cell_type": "markdown",
   "metadata": {},
   "source": [
    "#### Query Constructed for API functions..  "
   ]
  },
  {
   "cell_type": "code",
   "execution_count": 6,
   "metadata": {},
   "outputs": [
    {
     "data": {
      "text/plain": [
       "'type'"
      ]
     },
     "execution_count": 6,
     "metadata": {},
     "output_type": "execute_result"
    }
   ],
   "source": [
    "api[1][1].__name__"
   ]
  },
  {
   "cell_type": "code",
   "execution_count": 7,
   "metadata": {},
   "outputs": [],
   "source": [
    "funs = ns.select(api,'function')\n",
    "mods = ns.select(api,'module')\n",
    "ints = ns.select(api,'int')\n",
    "floats = ns.select(api,'float')"
   ]
  },
  {
   "cell_type": "code",
   "execution_count": 9,
   "metadata": {},
   "outputs": [],
   "source": [
    "full_api = [(x[0],type( np.__getattribute__(x[0])).__name__) for x in api ]"
   ]
  },
  {
   "cell_type": "code",
   "execution_count": 10,
   "metadata": {},
   "outputs": [],
   "source": [
    "# Use all to build full query\n",
    "api_list=ns.build_api_list(full_api)\n",
    "\n",
    "#Just a few for Demonstration\n",
    "api_list = funs[:3]+mods[:3]+ints[:3]+floats[:3]"
   ]
  },
  {
   "cell_type": "code",
   "execution_count": null,
   "metadata": {},
   "outputs": [],
   "source": []
  },
  {
   "cell_type": "code",
   "execution_count": 12,
   "metadata": {},
   "outputs": [
    {
     "name": "stdout",
     "output_type": "stream",
     "text": [
      "SELECT\n",
      "REGEXP_MATCH(c.content,'(import\\s+numpy\\.|from numpy\\._distributor_init\\s+import\\s+[a-zA-Z0-9_]+)' ) AS numpy_module__distributor_init,\n",
      "REGEXP_MATCH(c.content,'(import\\s+numpy\\.|from numpy\\._globals\\s+import\\s+[a-zA-Z0-9_]+)' ) AS numpy_module__globals,\n",
      "REGEXP_MATCH(c.content,'(import\\s+numpy\\.|from numpy\\._import_tools\\s+import\\s+[a-zA-Z0-9_]+)' ) AS numpy_module__import_tools,\n",
      "REGEXP_MATCH( c.content,'(np\\.|numpy\\.)add_newdoc\\(\\s?[A-Za-z0-9_.\\(\\)]*\\s?\\)' ) AS numpy_function_add_newdoc,\n",
      "REGEXP_MATCH( c.content,'(np\\.|numpy\\.)alen\\(\\s?[A-Za-z0-9_.\\(\\)]*\\s?\\)' ) AS numpy_function_alen,\n",
      "REGEXP_MATCH( c.content,'(np\\.|numpy\\.)all\\(\\s?[A-Za-z0-9_.\\(\\)]*\\s?\\)' ) AS numpy_function_all\n",
      "FROM (SELECT\n",
      "*\n",
      "FROM\n",
      "[bigquery-public-data:github_repos.contents] AS c\n",
      "INNER JOIN\n",
      "(SELECT\n",
      "*\n",
      "FROM\n",
      "[bigquery-public-data:github_repos.files] AS f\n",
      "WHERE\n",
      "(\n",
      "f.path LIKE '%.py' \n",
      "OR\n",
      "f.path LIKE '%.ipynb'\n",
      ") ) AS p\n",
      "ON\n",
      "c.id = p.id)\n"
     ]
    }
   ],
   "source": [
    "import numpy_api_stats as ns\n",
    "apq = ns.API_QUERY_FACTORY(api_list)\n",
    "print(apq.query)"
   ]
  },
  {
   "cell_type": "markdown",
   "metadata": {},
   "source": [
    "### AFter copying and pasting the above query into BigQuery and saving as sample_results... "
   ]
  },
  {
   "cell_type": "markdown",
   "metadata": {},
   "source": [
    "#####Unfortunately this doesn't work https://github.com/dask/dask/issues/3121 so we manually export results."
   ]
  },
  {
   "cell_type": "raw",
   "metadata": {},
   "source": [
    "import dask.dataframe as dd\n",
    "df = dd.read_csv('gs://numpy_api_study/  np_results_*.csv')"
   ]
  },
  {
   "cell_type": "raw",
   "metadata": {},
   "source": [
    "import pandas as pd\n",
    "full_results = pd.read_csv('gs://numpy_api_study/full_results2.csv')"
   ]
  },
  {
   "cell_type": "code",
   "execution_count": null,
   "metadata": {},
   "outputs": [],
   "source": [
    "#Pull data from bigQuery\n",
    "#r = api_results.query_to_pandas_safe('SELECT * FROM `apt-footing-235018.NumpyAPI.sample_results`')\n",
    "#r"
   ]
  },
  {
   "cell_type": "code",
   "execution_count": null,
   "metadata": {},
   "outputs": [],
   "source": []
  },
  {
   "cell_type": "code",
   "execution_count": null,
   "metadata": {},
   "outputs": [],
   "source": []
  }
 ],
 "metadata": {
  "kernelspec": {
   "display_name": "Python (uarray)",
   "language": "python",
   "name": "uarray"
  },
  "language_info": {
   "codemirror_mode": {
    "name": "ipython",
    "version": 3
   },
   "file_extension": ".py",
   "mimetype": "text/x-python",
   "name": "python",
   "nbconvert_exporter": "python",
   "pygments_lexer": "ipython3",
   "version": "3.7.2"
  }
 },
 "nbformat": 4,
 "nbformat_minor": 2
}
